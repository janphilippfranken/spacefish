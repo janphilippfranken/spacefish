{
 "cells": [
  {
   "cell_type": "code",
   "execution_count": 1,
   "id": "1f1a0ddb-afb3-4c02-aafc-f6d3e0814b38",
   "metadata": {},
   "outputs": [],
   "source": [
    "from tqdm import tqdm\n",
    "import numpy as np\n",
    "import pylab\n",
    "import matplotlib.pyplot as plt\n",
    "import matplotlib.patheffects as pe\n",
    "from matplotlib.lines import Line2D\n",
    "import seaborn as sb\n",
    "\n",
    "\n",
    "from simulator import simulate\n",
    "from utils import generate_structures, get_bias"
   ]
  },
  {
   "cell_type": "code",
   "execution_count": 9,
   "id": "2c9eb766-9e29-4308-87e0-7238e10572a5",
   "metadata": {},
   "outputs": [
    {
     "name": "stdout",
     "output_type": "stream",
     "text": [
      "[array([[0, 0, 0],\n",
      "       [1, 0, 0],\n",
      "       [1, 0, 0]]), array([[0, 0, 0],\n",
      "       [1, 0, 0],\n",
      "       [1, 1, 0]]), array([[0, 0, 0],\n",
      "       [1, 0, 1],\n",
      "       [1, 0, 0]])]\n"
     ]
    }
   ],
   "source": [
    "n_trials = 5\n",
    "n_agents = 3 \n",
    "n_sim = 100\n",
    "emp_tau = 10\n",
    "structures = generate_structures(n_agents) \n",
    "\n",
    "# specifying some observations \n",
    "a_obs = np.zeros(n_trials) \n",
    "b_obs = np.zeros(n_trials)\n",
    "c_obs = np.zeros(n_trials)\n",
    "a_obs[0] = 1\n",
    "b_obs[0] = -1\n",
    "c_obs[0] = 1\n",
    "print(structures[:3])"
   ]
  },
  {
   "cell_type": "code",
   "execution_count": 14,
   "id": "9ce975f8-2cd7-43e9-bfc0-422fe5f0437d",
   "metadata": {},
   "outputs": [
    {
     "name": "stderr",
     "output_type": "stream",
     "text": [
      "100%|██████████| 3/3 [00:21<00:00,  7.11s/it]\n"
     ]
    }
   ],
   "source": [
    "def start_sim(n_sim, struct, struct_idx): \n",
    "    res = {'A': {}, 'B': {}, 'C': {}, 'coms': {}}\n",
    "    for sim_idx in range(n_sim):\n",
    "        sim = simulate(n_trials, n_agents, struct, a_obs, b_obs, c_obs, emp_tau, sticky_weight=None, method='seqfilter')\n",
    "        res['A'][sim_idx] = sim[0]\n",
    "        res['B'][sim_idx] = sim[1]\n",
    "        res['C'][sim_idx] = sim[2]\n",
    "        res['coms'][sim_idx] = sim[3]\n",
    "    sim_results[struct_idx] = res\n",
    "    \n",
    "sim_results = {}\n",
    "for struct_idx in tqdm(range(len(structures[:3]))):\n",
    "    start_sim(n_sim, structures[struct_idx], struct_idx)"
   ]
  },
  {
   "cell_type": "code",
   "execution_count": 15,
   "id": "9ead52a6-94c7-41b8-bda5-461b060c4ee2",
   "metadata": {},
   "outputs": [],
   "source": [
    "# summary statistics \n",
    "mean_coms = {}\n",
    "final_a = []\n",
    "final_b = []\n",
    "\n",
    "com = np.zeros((n_trials, n_agents))\n",
    "\n",
    "for struct_idx in range(len(structures[:3])):\n",
    "    mean_coms[struct_idx] = np.zeros((n_trials, n_agents))\n",
    "    for trial in range(n_trials-1):\n",
    "        a = []\n",
    "        b = []\n",
    "        for sim in range(n_sim):\n",
    "            if trial == n_trials - 2: # get final trial for which we have evidence which is n_trials - 2\n",
    "                a.append(sim_results[struct_idx][\"A\"][sim][trial][0])\n",
    "                b.append(sim_results[struct_idx][\"A\"][sim][trial][1])\n",
    "        if trial == n_trials - 2:\n",
    "            final_a.append(a)\n",
    "            final_b.append(b)\n",
    "    for sim in range(n_sim):\n",
    "        mean_coms[struct_idx] += sim_results[struct_idx]['coms'][sim]/n_sim\n",
    "        \n",
    "bias = get_bias(final_a, final_b, n_sim, structures[:3])"
   ]
  },
  {
   "cell_type": "code",
   "execution_count": 23,
   "id": "681693cf-61b2-45e4-a766-478ee8809008",
   "metadata": {},
   "outputs": [
    {
     "name": "stderr",
     "output_type": "stream",
     "text": [
      "/var/folders/00/9xpq5wf91c52hxnyh5ythpw40000gn/T/ipykernel_27023/1892107633.py:27: UserWarning: Dataset has 0 variance; skipping density estimate. Pass `warn_singular=False` to disable this warning.\n",
      "  sb.kdeplot(a_bias, fill=True, ax=axs[i], color='red', path_effects=[pe.Stroke(linewidth=5, foreground='black'), pe.Normal()])\n",
      "/var/folders/00/9xpq5wf91c52hxnyh5ythpw40000gn/T/ipykernel_27023/1892107633.py:28: UserWarning: Dataset has 0 variance; skipping density estimate. Pass `warn_singular=False` to disable this warning.\n",
      "  sb.kdeplot(b_bias, fill=True, ax=axs[i], color='deepskyblue', path_effects=[pe.Stroke(linewidth=5, foreground='black'), pe.Normal()])\n"
     ]
    },
    {
     "data": {
      "image/png": "[encoded data removed]",
      "text/plain": [
       "<Figure size 500x500 with 3 Axes>"
      ]
     },
     "metadata": {},
     "output_type": "display_data"
    }
   ],
   "source": [
    "# plot\n",
    "plot_params = {'legend.fontsize': 'large',\n",
    "               'axes.labelsize': 'large',\n",
    "               'axes.titlesize':'20',\n",
    "               'axes.labelsize':'28',\n",
    "               'xtick.labelsize':'20',\n",
    "               'font.family': 'Avenir',\n",
    "               'ytick.color':'grey',\n",
    "               'xtick.color':'grey',\n",
    "               'ytick.labelsize':'20',\n",
    "               'axes.linewidth': '10'}\n",
    "\n",
    "pylab.rcParams.update(plot_params)\n",
    "\n",
    "def smooth(y, box_pts):\n",
    "    box = np.ones(box_pts)/box_pts\n",
    "    y_smooth = np.convolve(y, box, mode='same')\n",
    "    return y_smooth\n",
    "\n",
    "def plot_bias(names, data, n_rows, n_cols):\n",
    "    fig, axs = plt.subplots(n_rows, n_cols, figsize=(5,5), sharey=True) \n",
    "    struct_idx = 0\n",
    "    for i in range(n_rows):\n",
    "        for j in range(n_cols):  \n",
    "            a_bias = smooth(data[0][struct_idx],2) # smoothing\n",
    "            b_bias = smooth(data[1][struct_idx],2)\n",
    "            sb.kdeplot(a_bias, fill=True, ax=axs[i], color='red', path_effects=[pe.Stroke(linewidth=5, foreground='black'), pe.Normal()])\n",
    "            sb.kdeplot(b_bias, fill=True, ax=axs[i], color='deepskyblue', path_effects=[pe.Stroke(linewidth=5, foreground='black'), pe.Normal()])\n",
    "            struct_idx += 1\n",
    "            axs[i].axvline(x=0, label=r'$\\mu$', color='black', linestyle='--')\n",
    "            axs[i].set_xlim([-5, 5])\n",
    "            # axs[i].set_ylim([-0.1, .6])\n",
    "            # axs[i].set_yticks([0, 0.5])\n",
    "            axs[i].set_xticks([-4,-2, 0, 2,4])\n",
    "            axs[i].axhline(y=0, color='black', linestyle='--')\n",
    "            if i == n_rows-1:\n",
    "                axs[i].set_xticklabels([-4,-2, 0, 2,4])\n",
    "            else:\n",
    "                axs[i].set_xticklabels([])\n",
    "            axs[i].spines['right'].set_visible(False)\n",
    "            axs[i].spines['top'].set_visible(False)\n",
    "            axs[i].spines['bottom'].set_linewidth(3)\n",
    "            axs[i].spines['left'].set_linewidth(3)\n",
    "            axs[i].set_ylabel(\"\")        \n",
    "    custom_lines = [Line2D([0], [0], color='red', lw=4,mfc='black',alpha=.5),\n",
    "                    Line2D([0], [0], color='DeepSkyBlue', lw=4,alpha=.5)]\n",
    "    axs[0].legend(custom_lines, names, loc='upper left', \n",
    "                    fontsize=25, bbox_to_anchor=(-0.01, 1.0), \n",
    "                    ncol=1,frameon=False,borderpad=0.1, \n",
    "                    labelspacing=0.1, handlelength=1, \n",
    "                    handletextpad=0.4, columnspacing=0.4)\n",
    "    fig.tight_layout()\n",
    "    plt.show()\n",
    "\n",
    "names = [r'$\\alpha$', r'$\\beta$']\n",
    "plot_bias(names, bias, 3, 1)"
   ]
  }
 ],
 "metadata": {
  "kernelspec": {
   "display_name": "scai",
   "language": "python",
   "name": "python3"
  },
  "language_info": {
   "codemirror_mode": {
    "name": "ipython",
    "version": 3
   },
   "file_extension": ".py",
   "mimetype": "text/x-python",
   "name": "python",
   "nbconvert_exporter": "python",
   "pygments_lexer": "ipython3",
   "version": "3.10.0"
  }
 },
 "nbformat": 4,
 "nbformat_minor": 5
}
