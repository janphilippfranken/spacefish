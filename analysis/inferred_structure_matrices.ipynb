{
 "cells": [
  {
   "cell_type": "code",
   "execution_count": 1,
   "id": "94627216-783b-4fc8-8b4a-20356f21a93e",
   "metadata": {},
   "outputs": [],
   "source": [
    "import numpy as np\n",
    "from tqdm import tqdm\n",
    "from beta_update import BetaUpdate\n",
    "import json\n",
    "import math\n",
    "from utils import generate_structures"
   ]
  },
  {
   "cell_type": "code",
   "execution_count": 2,
   "id": "293c868e-0b01-403f-9190-5e7d43162303",
   "metadata": {},
   "outputs": [],
   "source": [
    "structure_judgs = open('inferred_structure/exp_1_cond_2_no_struct.txt')\n",
    "structure_judgs = json.load(structure_judgs)\n",
    "n_agents = 3\n",
    "structures = generate_structures(n_agents) "
   ]
  },
  {
   "cell_type": "code",
   "execution_count": 4,
   "id": "f25026af-9eb4-4103-b9ba-44c898426301",
   "metadata": {},
   "outputs": [
    {
     "name": "stdout",
     "output_type": "stream",
     "text": [
      "[[0.        0.5077786 0.0974242]\n",
      " [0.9999996 0.        0.0282092]\n",
      " [0.9999996 0.2119146 0.       ]]\n"
     ]
    }
   ],
   "source": [
    "average_matrix = np.zeros((3,3))\n",
    "for k, v in enumerate(structure_judgs):\n",
    "    probs = structure_judgs[str(k)]['9']\n",
    "    for prob, struct in zip(probs, structures):\n",
    "        average_matrix += struct * 1/50 * prob\n",
    "print(average_matrix)"
   ]
  },
  {
   "cell_type": "code",
   "execution_count": 6,
   "id": "87d18798-9e88-4a9f-83f4-f05f5f7d3674",
   "metadata": {},
   "outputs": [],
   "source": [
    "structure_judgs = open('inferred_structure/exp_3_cond_1_independent.txt')\n",
    "structure_judgs = json.load(structure_judgs)\n",
    "n_agents = 3\n",
    "structures = generate_structures(n_agents) "
   ]
  },
  {
   "cell_type": "code",
   "execution_count": 7,
   "id": "b7adf4bc-c5f9-449e-97dc-b6acf84c1f59",
   "metadata": {},
   "outputs": [
    {
     "name": "stdout",
     "output_type": "stream",
     "text": [
      "[[0.         0.33149409 0.30850045]\n",
      " [0.999995   0.         0.314705  ]\n",
      " [0.999995   0.14972182 0.        ]]\n"
     ]
    }
   ],
   "source": [
    "average_matrix = np.zeros((3,3))\n",
    "for k, v in enumerate(structure_judgs):\n",
    "    probs = structure_judgs[str(k)]['9']\n",
    "    for prob, struct in zip(probs, structures):\n",
    "        average_matrix += struct * 1/22 * prob\n",
    "    \n",
    "print(average_matrix)"
   ]
  },
  {
   "cell_type": "code",
   "execution_count": 8,
   "id": "f965f731-c7d4-42a9-8182-462a989dc247",
   "metadata": {},
   "outputs": [
    {
     "name": "stdout",
     "output_type": "stream",
     "text": [
      "[[0.         0.29119952 0.41993238]\n",
      " [1.00000571 0.         0.59592667]\n",
      " [1.00000571 0.35071    0.        ]]\n"
     ]
    }
   ],
   "source": [
    "structure_judgs = open('inferred_structure/exp_3_cond_2_b_c.txt')\n",
    "structure_judgs = json.load(structure_judgs)\n",
    "n_agents = 3\n",
    "structures = generate_structures(n_agents) \n",
    "\n",
    "average_matrix = np.zeros((3,3))\n",
    "for k, v in enumerate(structure_judgs):\n",
    "    probs = structure_judgs[str(k)]['9']\n",
    "    for prob, struct in zip(probs, structures):\n",
    "        average_matrix += struct * 1/21 * prob\n",
    "    \n",
    "print(average_matrix)"
   ]
  }
 ],
 "metadata": {
  "kernelspec": {
   "display_name": "socialstructure",
   "language": "python",
   "name": "socialstructure"
  },
  "language_info": {
   "codemirror_mode": {
    "name": "ipython",
    "version": 3
   },
   "file_extension": ".py",
   "mimetype": "text/x-python",
   "name": "python",
   "nbconvert_exporter": "python",
   "pygments_lexer": "ipython3",
   "version": "3.9.6"
  }
 },
 "nbformat": 4,
 "nbformat_minor": 5
}
