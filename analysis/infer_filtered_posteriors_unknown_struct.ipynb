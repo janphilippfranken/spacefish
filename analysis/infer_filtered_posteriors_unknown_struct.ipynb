{
 "cells": [
  {
   "cell_type": "code",
   "execution_count": 1,
   "id": "8e089bc0",
   "metadata": {},
   "outputs": [],
   "source": [
    "import numpy as np\n",
    "from tqdm import tqdm\n",
    "from beta_update import BetaUpdate\n",
    "import json\n",
    "import math\n",
    "from utils import get_expected_loss, generate_structures"
   ]
  },
  {
   "cell_type": "markdown",
   "id": "a4470a18-64f6-486f-b86d-e73c5dc8b791",
   "metadata": {},
   "source": [
    "#### Loading data and specifiying priors, evidence, and fixed parameters"
   ]
  },
  {
   "cell_type": "code",
   "execution_count": 2,
   "id": "9dcd29df",
   "metadata": {},
   "outputs": [
    {
     "name": "stdout",
     "output_type": "stream",
     "text": [
      "21\n",
      "[[[0. 0. 0.]\n",
      "  [1. 0. 1.]\n",
      "  [1. 1. 0.]]\n",
      "\n",
      " [[0. 0. 0.]\n",
      "  [1. 0. 0.]\n",
      "  [1. 0. 0.]]\n",
      "\n",
      " [[0. 1. 1.]\n",
      "  [1. 0. 1.]\n",
      "  [1. 1. 0.]]\n",
      "\n",
      " [[0. 0. 0.]\n",
      "  [1. 0. 1.]\n",
      "  [1. 1. 0.]]\n",
      "\n",
      " [[0. 1. 1.]\n",
      "  [1. 0. 1.]\n",
      "  [1. 1. 0.]]\n",
      "\n",
      " [[0. 1. 0.]\n",
      "  [1. 0. 0.]\n",
      "  [1. 1. 0.]]\n",
      "\n",
      " [[0. 1. 0.]\n",
      "  [1. 0. 0.]\n",
      "  [1. 1. 0.]]\n",
      "\n",
      " [[0. 0. 1.]\n",
      "  [1. 0. 1.]\n",
      "  [1. 0. 0.]]\n",
      "\n",
      " [[0. 1. 1.]\n",
      "  [1. 0. 1.]\n",
      "  [1. 1. 0.]]\n",
      "\n",
      " [[0. 1. 1.]\n",
      "  [1. 0. 1.]\n",
      "  [1. 0. 0.]]\n",
      "\n",
      " [[0. 0. 0.]\n",
      "  [1. 0. 0.]\n",
      "  [1. 1. 0.]]\n",
      "\n",
      " [[0. 1. 1.]\n",
      "  [1. 0. 1.]\n",
      "  [1. 0. 0.]]\n",
      "\n",
      " [[0. 1. 0.]\n",
      "  [1. 0. 1.]\n",
      "  [1. 0. 0.]]\n",
      "\n",
      " [[0. 0. 1.]\n",
      "  [1. 0. 1.]\n",
      "  [1. 1. 0.]]\n",
      "\n",
      " [[0. 1. 0.]\n",
      "  [1. 0. 1.]\n",
      "  [1. 0. 0.]]\n",
      "\n",
      " [[0. 0. 1.]\n",
      "  [1. 0. 0.]\n",
      "  [1. 0. 0.]]\n",
      "\n",
      " [[0. 0. 1.]\n",
      "  [1. 0. 1.]\n",
      "  [1. 0. 0.]]\n",
      "\n",
      " [[0. 1. 1.]\n",
      "  [1. 0. 0.]\n",
      "  [1. 1. 0.]]\n",
      "\n",
      " [[0. 1. 0.]\n",
      "  [1. 0. 1.]\n",
      "  [1. 1. 0.]]\n",
      "\n",
      " [[0. 1. 1.]\n",
      "  [1. 0. 1.]\n",
      "  [1. 1. 0.]]\n",
      "\n",
      " [[0. 1. 1.]\n",
      "  [1. 0. 1.]\n",
      "  [1. 0. 0.]]]\n",
      "[[[ 2.  2.  2. -3.  0. -1.  1.  0. -1.  1.]\n",
      "  [ 0.  0.  0. -1. -1. -1. -1. -1. -3. -3.]\n",
      "  [ 0.  0.  0.  0. -1. -1. -1. -2. -2. -3.]]\n",
      "\n",
      " [[ 0.  1.  1.  0.  0.  0.  0.  1.  1.  1.]\n",
      "  [ 0.  0.  1. -1.  0.  0.  0.  0.  0.  0.]\n",
      "  [ 0. -3.  1. -1.  0. -1.  3.  0. -1.  1.]]\n",
      "\n",
      " [[ 0.  1.  0.  0.  0.  0. -1.  0.  1.  2.]\n",
      "  [ 0.  0.  0. -2.  0. -1.  0.  0.  0.  0.]\n",
      "  [ 0.  0.  0.  0. -1. -1.  1.  0.  0.  0.]]\n",
      "\n",
      " [[ 0.  1.  0.  1.  0. -1. -1.  1. -1. -1.]\n",
      "  [ 0.  0.  0. -1.  0. -1. -1. -2. -2. -2.]\n",
      "  [ 0.  0.  0.  0. -1.  0.  2.  0. -1. -2.]]\n",
      "\n",
      " [[ 0.  2.  0.  0.  0.  0.  0. -1. -1. -1.]\n",
      "  [ 0.  0.  0. -1.  0.  0. -1. -1. -1. -1.]\n",
      "  [ 0.  1. -1.  0. -1.  1.  1.  1. -1. -1.]]\n",
      "\n",
      " [[ 0.  1.  1.  1.  0.  0.  1.  2.  1.  1.]\n",
      "  [ 0.  0.  0. -1. -1. -1. -1. -1. -1. -2.]\n",
      "  [ 0.  0.  0.  0.  0.  0.  1. -1. -1. -1.]]\n",
      "\n",
      " [[ 0.  1.  1.  0.  0. -1.  0.  0.  0.  0.]\n",
      "  [ 0.  0.  0. -1.  0.  0.  0.  0.  0.  0.]\n",
      "  [ 0.  0.  0.  0. -1.  0.  1.  0.  0. -1.]]\n",
      "\n",
      " [[ 0.  1.  1.  1.  0.  0. -1. -1. -1. -1.]\n",
      "  [ 0.  0.  0. -1. -1. -1. -1. -1. -1. -1.]\n",
      "  [ 0.  0.  0.  0. -1. -2.  1.  0. -1. -1.]]\n",
      "\n",
      " [[ 0.  2.  0.  0. -1.  2. -2.  1.  3.  0.]\n",
      "  [ 0.  0.  0. -1. -1. -1. -1. -1.  0.  0.]\n",
      "  [ 0.  0. -1.  0.  0.  0.  3.  0.  0.  0.]]\n",
      "\n",
      " [[ 0.  1.  1.  1.  1.  1.  1.  0.  1.  2.]\n",
      "  [ 0.  0.  0. -1. -1. -1. -1. -1. -1. -1.]\n",
      "  [ 0.  0.  0.  0.  0.  0. -1.  1.  0.  0.]]\n",
      "\n",
      " [[ 0.  1.  0.  0.  0.  0.  0.  0.  0.  0.]\n",
      "  [ 0.  0.  0. -1.  0.  0. -1. -1. -1. -1.]\n",
      "  [ 0.  0.  0.  0.  0.  0.  1.  0.  0.  0.]]\n",
      "\n",
      " [[-1.  1.  0.  0. -1. -2. -1. -1. -1. -1.]\n",
      "  [ 0.  0.  0. -2. -2.  0. -2. -2. -2.  0.]\n",
      "  [ 0.  0.  0.  0. -1. -1.  0.  0.  0. -1.]]\n",
      "\n",
      " [[ 0.  1.  1.  1.  0.  0.  1.  1.  1.  1.]\n",
      "  [ 0.  0.  0. -1.  0.  0.  0.  0.  0.  0.]\n",
      "  [ 0.  0.  0.  0. -1.  0. -2. -1. -1. -2.]]\n",
      "\n",
      " [[ 0.  0.  0.  2.  3.  3.  3.  3.  3.  1.]\n",
      "  [-1.  0.  0. -3. -3. -3. -1. -1. -1.  0.]\n",
      "  [ 0.  0.  0.  0. -3. -2. -1.  0. -2. -3.]]\n",
      "\n",
      " [[ 0.  1.  0.  0.  0.  0.  0.  0.  0.  0.]\n",
      "  [ 0.  0.  0.  0.  0.  0.  0.  0.  0.  0.]\n",
      "  [ 0.  0.  0.  0.  0.  0.  1.  1.  1.  1.]]\n",
      "\n",
      " [[ 0.  1.  1.  1.  1.  1.  1.  1.  1. -2.]\n",
      "  [ 0.  0.  0. -1. -1. -1. -1. -2. -2. -3.]\n",
      "  [ 0.  0.  0.  0.  0.  0.  3.  0.  0.  0.]]\n",
      "\n",
      " [[ 0.  1.  1.  2.  1.  0.  0. -1.  0.  1.]\n",
      "  [ 0.  0.  0. -1. -1. -1. -1. -1. -1. -1.]\n",
      "  [ 3.  0.  2. -1. -2.  0. -1.  2.  1. -1.]]\n",
      "\n",
      " [[ 0.  1.  1.  1. -1. -1. -1.  0. -1. -1.]\n",
      "  [ 0.  0.  0. -2.  0.  0.  0. -2. -2. -2.]\n",
      "  [ 0.  0.  0.  0.  0.  0.  1.  0.  1.  1.]]\n",
      "\n",
      " [[ 0.  1.  1.  1.  0.  0.  0. -1. -1.  0.]\n",
      "  [-2. -1. -1. -2. -2. -2. -1. -1. -1. -1.]\n",
      "  [ 0.  0.  0.  0.  0. -1. -1. -1.  0.  0.]]\n",
      "\n",
      " [[ 0.  1.  1.  0. -1. -1. -2.  3.  2.  1.]\n",
      "  [ 0.  0.  0. -1. -1. -1. -1. -1. -1. -1.]\n",
      "  [ 0.  0.  0.  0.  0.  0.  2.  1.  1.  2.]]\n",
      "\n",
      " [[ 0.  1.  1.  1. -2. -2. -2. -2.  2.  2.]\n",
      "  [ 0.  0.  0. -1.  0. -1.  0.  0.  0.  0.]\n",
      "  [ 0.  0.  0.  0. -1.  0.  1.  1.  0.  0.]]]\n"
     ]
    }
   ],
   "source": [
    "data = np.array(np.loadtxt('processed_data_and_figures/exp_3_three_players_unknown_structure/b->c/b->c_planet_judgments.txt').reshape(22,3,10))\n",
    "count = 21\n",
    "data =  data[:count,:,:] # get rid of the mean\n",
    "\n",
    "structure_judgs = np.array(np.loadtxt('processed_data_and_figures/exp_3_three_players_unknown_structure/b->c/b->c_structure_judgments.txt').reshape(21,3,3))\n",
    "print(len(structure_judgs))\n",
    "structure_judgs[1][1,0], structure_judgs[1][2,0] = 1, 1\n",
    "print(structure_judgs)\n",
    "\n",
    "n_agents = 3\n",
    "structures = generate_structures(n_agents) \n",
    "\n",
    "# preliminaries \n",
    "p_evidence = 2/3\n",
    "hard_max_param = 10\n",
    "prior_alpha, prior_beta = 1, 1\n",
    "n_responses = 7\n",
    "red, blue, no_evidence = 1, 0, 'no'\n",
    "\n",
    "print(data)"
   ]
  },
  {
   "cell_type": "code",
   "execution_count": 5,
   "id": "41c54f75",
   "metadata": {},
   "outputs": [
    {
     "name": "stderr",
     "output_type": "stream",
     "text": [
      "  0%|                                                    | 0/21 [00:00<?, ?it/s]"
     ]
    },
    {
     "name": "stdout",
     "output_type": "stream",
     "text": [
      "0\n"
     ]
    },
    {
     "name": "stderr",
     "output_type": "stream",
     "text": [
      "  5%|██                                          | 1/21 [00:00<00:04,  4.82it/s]"
     ]
    },
    {
     "name": "stdout",
     "output_type": "stream",
     "text": [
      "1\n"
     ]
    },
    {
     "name": "stderr",
     "output_type": "stream",
     "text": [
      " 10%|████▏                                       | 2/21 [00:00<00:04,  4.12it/s]"
     ]
    },
    {
     "name": "stdout",
     "output_type": "stream",
     "text": [
      "2\n"
     ]
    },
    {
     "name": "stderr",
     "output_type": "stream",
     "text": [
      " 14%|██████▎                                     | 3/21 [00:00<00:04,  3.98it/s]"
     ]
    },
    {
     "name": "stdout",
     "output_type": "stream",
     "text": [
      "3\n"
     ]
    },
    {
     "name": "stderr",
     "output_type": "stream",
     "text": [
      " 19%|████████▍                                   | 4/21 [00:01<00:04,  3.81it/s]"
     ]
    },
    {
     "name": "stdout",
     "output_type": "stream",
     "text": [
      "4\n"
     ]
    },
    {
     "name": "stderr",
     "output_type": "stream",
     "text": [
      " 24%|██████████▍                                 | 5/21 [00:01<00:04,  3.67it/s]"
     ]
    },
    {
     "name": "stdout",
     "output_type": "stream",
     "text": [
      "5\n"
     ]
    },
    {
     "name": "stderr",
     "output_type": "stream",
     "text": [
      " 29%|████████████▌                               | 6/21 [00:01<00:04,  3.58it/s]"
     ]
    },
    {
     "name": "stdout",
     "output_type": "stream",
     "text": [
      "6\n"
     ]
    },
    {
     "name": "stderr",
     "output_type": "stream",
     "text": [
      " 33%|██████████████▋                             | 7/21 [00:01<00:03,  3.70it/s]"
     ]
    },
    {
     "name": "stdout",
     "output_type": "stream",
     "text": [
      "7\n"
     ]
    },
    {
     "name": "stderr",
     "output_type": "stream",
     "text": [
      " 38%|████████████████▊                           | 8/21 [00:02<00:03,  3.63it/s]"
     ]
    },
    {
     "name": "stdout",
     "output_type": "stream",
     "text": [
      "8\n"
     ]
    },
    {
     "name": "stderr",
     "output_type": "stream",
     "text": [
      " 43%|██████████████████▊                         | 9/21 [00:02<00:03,  3.60it/s]"
     ]
    },
    {
     "name": "stdout",
     "output_type": "stream",
     "text": [
      "9\n"
     ]
    },
    {
     "name": "stderr",
     "output_type": "stream",
     "text": [
      " 48%|████████████████████▍                      | 10/21 [00:02<00:03,  3.66it/s]"
     ]
    },
    {
     "name": "stdout",
     "output_type": "stream",
     "text": [
      "10\n"
     ]
    },
    {
     "name": "stderr",
     "output_type": "stream",
     "text": [
      " 52%|██████████████████████▌                    | 11/21 [00:02<00:02,  3.72it/s]"
     ]
    },
    {
     "name": "stdout",
     "output_type": "stream",
     "text": [
      "11\n"
     ]
    },
    {
     "name": "stderr",
     "output_type": "stream",
     "text": [
      " 57%|████████████████████████▌                  | 12/21 [00:03<00:02,  3.69it/s]"
     ]
    },
    {
     "name": "stdout",
     "output_type": "stream",
     "text": [
      "12\n"
     ]
    },
    {
     "name": "stderr",
     "output_type": "stream",
     "text": [
      " 62%|██████████████████████████▌                | 13/21 [00:03<00:02,  3.69it/s]"
     ]
    },
    {
     "name": "stdout",
     "output_type": "stream",
     "text": [
      "13\n"
     ]
    },
    {
     "name": "stderr",
     "output_type": "stream",
     "text": [
      " 67%|████████████████████████████▋              | 14/21 [00:03<00:01,  3.67it/s]"
     ]
    },
    {
     "name": "stdout",
     "output_type": "stream",
     "text": [
      "14\n"
     ]
    },
    {
     "name": "stderr",
     "output_type": "stream",
     "text": [
      " 71%|██████████████████████████████▋            | 15/21 [00:04<00:01,  3.58it/s]"
     ]
    },
    {
     "name": "stdout",
     "output_type": "stream",
     "text": [
      "15\n"
     ]
    },
    {
     "name": "stderr",
     "output_type": "stream",
     "text": [
      " 76%|████████████████████████████████▊          | 16/21 [00:04<00:01,  3.52it/s]"
     ]
    },
    {
     "name": "stdout",
     "output_type": "stream",
     "text": [
      "16\n"
     ]
    },
    {
     "name": "stderr",
     "output_type": "stream",
     "text": [
      " 81%|██████████████████████████████████▊        | 17/21 [00:04<00:01,  3.51it/s]"
     ]
    },
    {
     "name": "stdout",
     "output_type": "stream",
     "text": [
      "17\n"
     ]
    },
    {
     "name": "stderr",
     "output_type": "stream",
     "text": [
      " 86%|████████████████████████████████████▊      | 18/21 [00:04<00:00,  3.70it/s]"
     ]
    },
    {
     "name": "stdout",
     "output_type": "stream",
     "text": [
      "18\n"
     ]
    },
    {
     "name": "stderr",
     "output_type": "stream",
     "text": [
      " 90%|██████████████████████████████████████▉    | 19/21 [00:05<00:00,  3.71it/s]"
     ]
    },
    {
     "name": "stdout",
     "output_type": "stream",
     "text": [
      "19\n"
     ]
    },
    {
     "name": "stderr",
     "output_type": "stream",
     "text": [
      " 95%|████████████████████████████████████████▉  | 20/21 [00:05<00:00,  3.52it/s]"
     ]
    },
    {
     "name": "stdout",
     "output_type": "stream",
     "text": [
      "20\n"
     ]
    },
    {
     "name": "stderr",
     "output_type": "stream",
     "text": [
      "100%|███████████████████████████████████████████| 21/21 [00:05<00:00,  3.66it/s]\n"
     ]
    }
   ],
   "source": [
    "a_posteriors = {}\n",
    "b_posteriors = {}\n",
    "c_posteriors = {}\n",
    "\n",
    "room_count = 0\n",
    "\n",
    "for room in tqdm(data[:count]):\n",
    "    \n",
    "    a_judgments = room[0] + 3\n",
    "    b_judgments = room[1] + 3\n",
    "    c_judgments = room[2] + 3\n",
    "     \n",
    "    a_posterior = {}\n",
    "    b_posterior = {}\n",
    "    c_posterior = {}\n",
    "    \n",
    "    selected_struct = structure_judgs[room_count]\n",
    "\n",
    "    prior = {1: p_evidence / 2, 0: p_evidence / 2, 'no': 1 - p_evidence}\n",
    "    \n",
    "    struct_idx = 0\n",
    "\n",
    "    for structure in structures: \n",
    "        \n",
    "        \n",
    "        if np.sum(structure == selected_struct) == 9:\n",
    "            print(room_count)\n",
    "            a_posterior[struct_idx] = {}\n",
    "            b_posterior[struct_idx] = {}\n",
    "            c_posterior[struct_idx] = {}\n",
    "\n",
    "            for j_idx in range(10):\n",
    "                a_posterior[struct_idx][j_idx] = {}\n",
    "                b_posterior[struct_idx][j_idx] = {}\n",
    "                c_posterior[struct_idx][j_idx] = {}\n",
    "\n",
    "                a_probs = np.zeros((3))\n",
    "                b_probs = np.zeros((3))\n",
    "                c_probs = np.zeros((3))\n",
    "\n",
    "                e_idx = 0\n",
    "\n",
    "                for e in list(prior.keys()):\n",
    "\n",
    "\n",
    "\n",
    "                    if j_idx == 0:\n",
    "                        BetaA = BetaUpdate(prior_a = prior_alpha, prior_b = prior_beta, n_choices=7) \n",
    "                        BetaB = BetaUpdate(prior_a = prior_alpha, prior_b = prior_beta, n_choices=7) \n",
    "                        BetaC = BetaUpdate(prior_a = prior_alpha, prior_b = prior_beta, n_choices=7) \n",
    "                    else:\n",
    "                        BetaA = BetaUpdate(prior_a = a_posterior[struct_idx][j_idx-1][1] + prior_alpha, prior_b = a_posterior[struct_idx][j_idx-1][0] + prior_beta, n_choices=7) \n",
    "                        BetaB = BetaUpdate(prior_a = b_posterior[struct_idx][j_idx-1][1] + prior_alpha, prior_b = b_posterior[struct_idx][j_idx-1][0] + prior_beta, n_choices=7) \n",
    "                        BetaC = BetaUpdate(prior_a = c_posterior[struct_idx][j_idx-1][1] + prior_alpha, prior_b = c_posterior[struct_idx][j_idx-1][0] + prior_beta, n_choices=7) \n",
    "\n",
    "\n",
    "                    # # now need to specify different conditions: \n",
    "                    if j_idx >= 1:\n",
    "                        if struct_idx == 0: # independent\n",
    "                            A_a =  a_posterior[struct_idx][j_idx-1][1] + c_posterior[struct_idx][j_idx-1][1] + b_posterior[struct_idx][j_idx-1][1] \n",
    "                            A_b =  a_posterior[struct_idx][j_idx-1][0] + c_posterior[struct_idx][j_idx-1][0] + b_posterior[struct_idx][j_idx-1][0] \n",
    "                            BetaA = BetaUpdate(prior_a = A_a + prior_alpha, prior_b = A_b + prior_beta, n_choices=7) \n",
    "                        if struct_idx == 1: # C->B\n",
    "                            B_a = b_posterior[struct_idx][j_idx-1][1] + c_posterior[struct_idx][j_idx-1][1] \n",
    "                            B_b = b_posterior[struct_idx][j_idx-1][0] + c_posterior[struct_idx][j_idx-1][0] \n",
    "                            BetaB = BetaUpdate(prior_a = B_a + prior_alpha, prior_b = B_b + prior_beta, n_choices=7) \n",
    "                        if struct_idx == 2: # B->C\n",
    "                            C_a = c_posterior[struct_idx][j_idx-1][1] + b_posterior[struct_idx][j_idx-1][1] \n",
    "                            C_b = c_posterior[struct_idx][j_idx-1][0] + b_posterior[struct_idx][j_idx-1][0] \n",
    "                            BetaC = BetaUpdate(prior_a = C_a + prior_alpha, prior_b = C_b + prior_beta, n_choices=7) \n",
    "                        if struct_idx == 3: # B<->C\n",
    "                            B_a = b_posterior[struct_idx][j_idx-1][1] + c_posterior[struct_idx][j_idx-1][1] \n",
    "                            B_b = b_posterior[struct_idx][j_idx-1][0] + c_posterior[struct_idx][j_idx-1][0] \n",
    "                            BetaB = BetaUpdate(prior_a = B_a + prior_alpha, prior_b = B_b + prior_beta, n_choices=7) \n",
    "                            C_a = c_posterior[struct_idx][j_idx-1][1] + b_posterior[struct_idx][j_idx-1][1] \n",
    "                            C_b = c_posterior[struct_idx][j_idx-1][0] + b_posterior[struct_idx][j_idx-1][0] \n",
    "                            BetaC = BetaUpdate(prior_a = C_a + prior_alpha, prior_b = C_b + prior_beta, n_choices=7) \n",
    "                        if struct_idx == 4: \n",
    "                            C_a = c_posterior[struct_idx][j_idx-1][1] + a_posterior[struct_idx][j_idx-1][1] \n",
    "                            C_b = c_posterior[struct_idx][j_idx-1][0] + a_posterior[struct_idx][j_idx-1][0] \n",
    "                            BetaC = BetaUpdate(prior_a = C_a + prior_alpha, prior_b = C_b + prior_beta, n_choices=7) \n",
    "                        if struct_idx == 5: # C->B\n",
    "                            C_a = c_posterior[struct_idx][j_idx-1][1] + a_posterior[struct_idx][j_idx-1][1] \n",
    "                            C_b = c_posterior[struct_idx][j_idx-1][0] + a_posterior[struct_idx][j_idx-1][0] \n",
    "                            BetaC = BetaUpdate(prior_a = C_a + prior_alpha, prior_b = C_b + prior_beta, n_choices=7) \n",
    "                            B_a = b_posterior[struct_idx][j_idx-1][1] + c_posterior[struct_idx][j_idx-1][1] \n",
    "                            B_b = b_posterior[struct_idx][j_idx-1][0] + c_posterior[struct_idx][j_idx-1][0] \n",
    "                            BetaB = BetaUpdate(prior_a = B_a + prior_alpha, prior_b = B_b + prior_beta, n_choices=7) \n",
    "                        if struct_idx == 6: # B->C\n",
    "                            C_a = c_posterior[struct_idx][j_idx-1][1] + b_posterior[struct_idx][j_idx-1][1] + a_posterior[struct_idx][j_idx-1][1] \n",
    "                            C_b = c_posterior[struct_idx][j_idx-1][0] + b_posterior[struct_idx][j_idx-1][0] + a_posterior[struct_idx][j_idx-1][0] \n",
    "                            BetaC = BetaUpdate(prior_a = C_a + prior_alpha, prior_b = C_b + prior_beta, n_choices=7) \n",
    "                        if struct_idx == 7: # B<->C\n",
    "                            B_a = b_posterior[struct_idx][j_idx-1][1] + c_posterior[struct_idx][j_idx-1][1] \n",
    "                            B_b = b_posterior[struct_idx][j_idx-1][0] + c_posterior[struct_idx][j_idx-1][0] \n",
    "                            BetaB = BetaUpdate(prior_a = B_a + prior_alpha, prior_b = B_b + prior_beta, n_choices=7) \n",
    "                            C_a = c_posterior[struct_idx][j_idx-1][1] + b_posterior[struct_idx][j_idx-1][1] + a_posterior[struct_idx][j_idx-1][1] \n",
    "                            C_b = c_posterior[struct_idx][j_idx-1][0] + b_posterior[struct_idx][j_idx-1][0] + a_posterior[struct_idx][j_idx-1][0] \n",
    "                            BetaC = BetaUpdate(prior_a = C_a + prior_alpha, prior_b = C_b + prior_beta, n_choices=7)  \n",
    "                        if struct_idx == 8: \n",
    "                            B_a = b_posterior[struct_idx][j_idx-1][1] + a_posterior[struct_idx][j_idx-1][1] \n",
    "                            B_b = b_posterior[struct_idx][j_idx-1][0] + a_posterior[struct_idx][j_idx-1][0] \n",
    "                            BetaB = BetaUpdate(prior_a = B_a + prior_alpha, prior_b = B_b + prior_beta, n_choices=7) \n",
    "                        if struct_idx == 9: # C->B\n",
    "                            B_a = b_posterior[struct_idx][j_idx-1][1] + c_posterior[struct_idx][j_idx-1][1] + a_posterior[struct_idx][j_idx-1][1] \n",
    "                            B_b = b_posterior[struct_idx][j_idx-1][0] + c_posterior[struct_idx][j_idx-1][0] + a_posterior[struct_idx][j_idx-1][0] \n",
    "                            BetaB = BetaUpdate(prior_a = B_a + prior_alpha, prior_b = B_b + prior_beta, n_choices=7) \n",
    "                        if struct_idx == 10: # B->C\n",
    "                            B_a = b_posterior[struct_idx][j_idx-1][1] + a_posterior[struct_idx][j_idx-1][1] \n",
    "                            B_b = b_posterior[struct_idx][j_idx-1][0] + a_posterior[struct_idx][j_idx-1][0] \n",
    "                            BetaB = BetaUpdate(prior_a = B_a + prior_alpha, prior_b = B_b + prior_beta, n_choices=7) \n",
    "                            C_a = c_posterior[struct_idx][j_idx-1][1] + b_posterior[struct_idx][j_idx-1][1] \n",
    "                            C_b = c_posterior[struct_idx][j_idx-1][0] + b_posterior[struct_idx][j_idx-1][0] \n",
    "                            BetaC = BetaUpdate(prior_a = C_a + prior_alpha, prior_b = C_b + prior_beta, n_choices=7) \n",
    "                        if struct_idx == 11: # B<->C\n",
    "                            B_a = b_posterior[struct_idx][j_idx-1][1] + c_posterior[struct_idx][j_idx-1][1] + a_posterior[struct_idx][j_idx-1][1] \n",
    "                            B_b = b_posterior[struct_idx][j_idx-1][0] + c_posterior[struct_idx][j_idx-1][0] + a_posterior[struct_idx][j_idx-1][0] \n",
    "                            BetaB = BetaUpdate(prior_a = B_a + prior_alpha, prior_b = B_b + prior_beta, n_choices=7) \n",
    "                            C_a = c_posterior[struct_idx][j_idx-1][1] + b_posterior[struct_idx][j_idx-1][1] \n",
    "                            C_b = c_posterior[struct_idx][j_idx-1][0] + b_posterior[struct_idx][j_idx-1][0] \n",
    "                            BetaC = BetaUpdate(prior_a = C_a + prior_alpha, prior_b = C_b + prior_beta, n_choices=7) \n",
    "                        if struct_idx == 12:\n",
    "                            B_a = b_posterior[struct_idx][j_idx-1][1] + a_posterior[struct_idx][j_idx-1][1] \n",
    "                            B_b = b_posterior[struct_idx][j_idx-1][0] + a_posterior[struct_idx][j_idx-1][0] \n",
    "                            BetaB = BetaUpdate(prior_a = B_a + prior_alpha, prior_b = B_b + prior_beta, n_choices=7) \n",
    "                            C_a = c_posterior[struct_idx][j_idx-1][1] + a_posterior[struct_idx][j_idx-1][1] \n",
    "                            C_b = c_posterior[struct_idx][j_idx-1][0] + a_posterior[struct_idx][j_idx-1][0] \n",
    "                            BetaC = BetaUpdate(prior_a = C_a + prior_alpha, prior_b = C_b + prior_beta, n_choices=7) \n",
    "                        if struct_idx == 13: # C->B\n",
    "                            C_a = c_posterior[struct_idx][j_idx-1][1] + a_posterior[struct_idx][j_idx-1][1] \n",
    "                            C_b = c_posterior[struct_idx][j_idx-1][0] + a_posterior[struct_idx][j_idx-1][0] \n",
    "                            BetaC = BetaUpdate(prior_a = C_a + prior_alpha, prior_b = C_b + prior_beta, n_choices=7) \n",
    "                            B_a = b_posterior[struct_idx][j_idx-1][1] + a_posterior[struct_idx][j_idx-1][1] + c_posterior[struct_idx][j_idx-1][1] \n",
    "                            B_b = b_posterior[struct_idx][j_idx-1][0] + a_posterior[struct_idx][j_idx-1][0] + c_posterior[struct_idx][j_idx-1][0] \n",
    "                            BetaB = BetaUpdate(prior_a = B_a + prior_alpha, prior_b = B_b + prior_beta, n_choices=7) \n",
    "                        if struct_idx == 14: # B->C\n",
    "                            C_a = c_posterior[struct_idx][j_idx-1][1] + a_posterior[struct_idx][j_idx-1][1] + b_posterior[struct_idx][j_idx-1][1] \n",
    "                            C_b = c_posterior[struct_idx][j_idx-1][0] + a_posterior[struct_idx][j_idx-1][0] + b_posterior[struct_idx][j_idx-1][0] \n",
    "                            BetaC = BetaUpdate(prior_a = C_a + prior_alpha, prior_b = C_b + prior_beta, n_choices=7) \n",
    "                            B_a = b_posterior[struct_idx][j_idx-1][1] + a_posterior[struct_idx][j_idx-1][1] \n",
    "                            B_b = b_posterior[struct_idx][j_idx-1][0] + a_posterior[struct_idx][j_idx-1][0] \n",
    "                            BetaB = BetaUpdate(prior_a = B_a + prior_alpha, prior_b = B_b + prior_beta, n_choices=7) \n",
    "                        if struct_idx == 15: # B<->C\n",
    "                            C_a = c_posterior[struct_idx][j_idx-1][1] + a_posterior[struct_idx][j_idx-1][1] + b_posterior[struct_idx][j_idx-1][1] \n",
    "                            C_b = c_posterior[struct_idx][j_idx-1][0] + a_posterior[struct_idx][j_idx-1][0] + b_posterior[struct_idx][j_idx-1][0] \n",
    "                            BetaC = BetaUpdate(prior_a = C_a + prior_alpha, prior_b = C_b + prior_beta, n_choices=7) \n",
    "                            B_a = b_posterior[struct_idx][j_idx-1][1] + a_posterior[struct_idx][j_idx-1][1] + c_posterior[struct_idx][j_idx-1][1] \n",
    "                            B_b = b_posterior[struct_idx][j_idx-1][0] + a_posterior[struct_idx][j_idx-1][0] + c_posterior[struct_idx][j_idx-1][0] \n",
    "                            BetaB = BetaUpdate(prior_a = B_a + prior_alpha, prior_b = B_b + prior_beta, n_choices=7) \n",
    "\n",
    "                        A_a =  a_posterior[struct_idx][j_idx-1][1] + c_posterior[struct_idx][j_idx-1][1] + b_posterior[struct_idx][j_idx-1][1] \n",
    "                        A_b =  a_posterior[struct_idx][j_idx-1][0] + c_posterior[struct_idx][j_idx-1][0] + b_posterior[struct_idx][j_idx-1][0] \n",
    "                        BetaA = BetaUpdate(prior_a = A_a + prior_alpha, prior_b = A_b + prior_beta, n_choices=7) \n",
    "\n",
    "                    ll_A = 1\n",
    "                    ll_B = 1\n",
    "                    ll_C = 1\n",
    "\n",
    "                    e_prob = prior[e] \n",
    "\n",
    "                    BetaA.simple_update(e) \n",
    "                    BetaB.simple_update(e) \n",
    "                    BetaC.simple_update(e)  \n",
    "\n",
    "                    rev_bins = BetaA.discrete_beta() \n",
    "                    rev_bins = get_expected_loss(rev_bins)\n",
    "                    rev_binsA = math.e**(np.array(rev_bins)*hard_max_param)/np.sum(math.e**(np.array(rev_bins)*hard_max_param))\n",
    "\n",
    "                    rev_bins = BetaB.discrete_beta() \n",
    "                    rev_bins = get_expected_loss(rev_bins)\n",
    "                    rev_binsB = math.e**(np.array(rev_bins)*hard_max_param)/np.sum(math.e**(np.array(rev_bins)*hard_max_param))\n",
    "\n",
    "                    rev_bins = BetaC.discrete_beta() \n",
    "                    rev_bins = get_expected_loss(rev_bins)\n",
    "                    rev_binsC = math.e**(np.array(rev_bins)*hard_max_param)/np.sum(math.e**(np.array(rev_bins)*hard_max_param))\n",
    "\n",
    "                    ll_A *= rev_binsA[int(a_judgments[j_idx])] # discrete beta [0.1, .4, ...][current judgment] -> .1\n",
    "                    ll_B *= rev_binsB[int(b_judgments[j_idx])]\n",
    "                    ll_C *= rev_binsC[int(c_judgments[j_idx])]\n",
    "\n",
    "                    a_probs[e_idx] = ll_A * e_prob # unorm. posterior prob for evidence \n",
    "                    b_probs[e_idx] = ll_B * e_prob \n",
    "                    c_probs[e_idx] = ll_C * e_prob \n",
    "\n",
    "                    e_idx += 1\n",
    "\n",
    "                a_post_norm = [p/sum(a_probs) for p in a_probs] # normalized \n",
    "                b_post_norm = [p/sum(b_probs) for p in b_probs]\n",
    "                c_post_norm = [p/sum(c_probs) for p in c_probs] \n",
    "\n",
    "\n",
    "                if j_idx == 0:\n",
    "                    a_posterior[struct_idx][j_idx][1] = a_post_norm[0] \n",
    "                    b_posterior[struct_idx][j_idx][1] = b_post_norm[0] \n",
    "                    c_posterior[struct_idx][j_idx][1] = c_post_norm[0] \n",
    "\n",
    "                    a_posterior[struct_idx][j_idx][0] = a_post_norm[1] \n",
    "                    b_posterior[struct_idx][j_idx][0] = b_post_norm[1] \n",
    "                    c_posterior[struct_idx][j_idx][0] = c_post_norm[1] \n",
    "                else:        \n",
    "                    a_posterior[struct_idx][j_idx][1] = a_posterior[struct_idx][j_idx - 1][1] + a_post_norm[0] \n",
    "                    b_posterior[struct_idx][j_idx][1] = b_posterior[struct_idx][j_idx - 1][1] + b_post_norm[0] \n",
    "                    c_posterior[struct_idx][j_idx][1] = c_posterior[struct_idx][j_idx - 1][1] + c_post_norm[0] \n",
    "\n",
    "                    a_posterior[struct_idx][j_idx][0] = a_posterior[struct_idx][j_idx - 1][0] + a_post_norm[1] \n",
    "                    b_posterior[struct_idx][j_idx][0] = b_posterior[struct_idx][j_idx - 1][0] + b_post_norm[1] \n",
    "                    c_posterior[struct_idx][j_idx][0] = c_posterior[struct_idx][j_idx - 1][0] + c_post_norm[1] \n",
    "\n",
    "        struct_idx += 1\n",
    "    a_posteriors[room_count] = a_posterior\n",
    "    b_posteriors[room_count] = b_posterior\n",
    "    c_posteriors[room_count] = c_posterior\n",
    "    room_count += 1"
   ]
  },
  {
   "cell_type": "code",
   "execution_count": 20,
   "id": "2ae016b7-a24d-4180-ae38-5c56fadc6f18",
   "metadata": {},
   "outputs": [],
   "source": [
    "# with open('inferred_observations/exp_3_cond_2_l2_a.txt', 'w') as outfile:\n",
    "#     json.dump(a_posteriors, outfile)\n",
    "\n",
    "# with open('inferred_observations/exp_3_cond_2_l1_b.txt', 'w') as outfile:\n",
    "#     json.dump(b_posteriors, outfile)\n",
    "    \n",
    "# with open('inferred_observations/exp_3_cond_2_l1_c.txt', 'w') as outfile:\n",
    "#     json.dump(c_posteriors, outfile)"
   ]
  }
 ],
 "metadata": {
  "kernelspec": {
   "display_name": "Python 3 (ipykernel)",
   "language": "python",
   "name": "python3"
  },
  "language_info": {
   "codemirror_mode": {
    "name": "ipython",
    "version": 3
   },
   "file_extension": ".py",
   "mimetype": "text/x-python",
   "name": "python",
   "nbconvert_exporter": "python",
   "pygments_lexer": "ipython3",
   "version": "3.9.7"
  }
 },
 "nbformat": 4,
 "nbformat_minor": 5
}
