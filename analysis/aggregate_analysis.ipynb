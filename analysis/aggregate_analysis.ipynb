{
 "cells": [
  {
   "cell_type": "code",
   "execution_count": 1,
   "id": "d6c26bdb",
   "metadata": {},
   "outputs": [],
   "source": [
    "import json\n",
    "import numpy as np\n",
    "import scipy.stats\n",
    "import matplotlib.pyplot as plt\n",
    "import matplotlib.patheffects as pe\n",
    "import sys\n",
    "from pingouin import mwu\n",
    "import random\n",
    "import pylab"
   ]
  },
  {
   "cell_type": "code",
   "execution_count": 43,
   "id": "024ca6de",
   "metadata": {},
   "outputs": [
    {
     "name": "stdout",
     "output_type": "stream",
     "text": [
      "\n",
      "mean, sem, conf int\n",
      "[-2.0, 0.0, 1.0, 1.0, 1.0, 0.0, 0.0, 1.0, -2.0, 0.0, 1.0, -3.0, 1.0, 1.0, -3.0, -1.0, -2.0, -1.0, 1.0, -2.0, -1.0, 2.0, -1.0, -1.0, -1.0, 1.0, 0.0, 1.0, -1.0, 0.0, 1.0, 1.0, -3.0, 0.0, -1.0, 0.0, -1.0, 1.0, -1.0, 0.0, -2.0, -1.0, -2.0, 1.0, -1.0, 1.0, 0.0]\n",
      "[-2.0, -1.0, -1.0, -1.0, 0.0, -1.0, -1.0, -1.0, -3.0, -3.0, -2.0, -1.0, -1.0, -1.0, -2.0, 2.0, -2.0, 0.0, 3.0, -2.0, -2.0, -2.0, -1.0, 0.0, 1.0, -3.0, -2.0, -3.0, -2.0, 0.0, -2.0, -2.0, -3.0, -1.0, -2.0, -2.0, 0.0, -2.0, -1.0, -1.0, -2.0, 3.0, -2.0, -1.0, 2.0, -2.0, -1.0, -1.0, -3.0, -1.0]\n",
      "[-2.0, -3.0, -1.0, 1.0, -2.0, -2.0, -3.0, -1.0, -1.0, -2.0, -2.0, -1.0, 0.0, 1.0, -1.0, -3.0, 0.0, -2.0, -1.0, 1.0, -3.0, -1.0, 1.0, -3.0, 0.0, 1.0, 3.0, 0.0, 0.0, -2.0, -1.0, 0.0, -3.0, -1.0, -1.0, -2.0, -1.0, -2.0, -1.0, -3.0, -1.0, 0.0, -1.0, 1.0, -3.0, 0.0, -3.0, 2.0, 0.0]\n",
      "cond 1 -0.3404255319148936 0.18817148216940954 prop larger than 0 0.3404255319148936\n",
      "cond 2 -1.16 0.20073334937428908 prop larger than 0 0.8\n",
      "cond 3 -0.9795918367346939 0.20924588422867224 prop larger than 0 0.6530612244897959\n"
     ]
    }
   ],
   "source": [
    "# EXPERIMENT 1  Descriptives\n",
    "cond_1_no_struct = np.array(np.loadtxt('processed_data_and_figures/exp_1_one_player_known_structure/cond_2_no_struct_full.txt').reshape(51,3,10))\n",
    "cond_2_BC_struct = np.array(np.loadtxt('processed_data_and_figures/exp_1_one_player_known_structure/cond_1_BC_full.txt').reshape(48,3,10))\n",
    "cond_3_CB_struct = np.array(np.loadtxt('processed_data_and_figures/exp_1_one_player_known_structure/cond_3_CB_full.txt').reshape(50,3,10))\n",
    "\n",
    "# computing mean mean judg within pp including all judg affected by manipulation (from 4 onwards)\n",
    "cond_1_mean = []\n",
    "cond_2_mean = []\n",
    "cond_3_mean = []\n",
    "for i in range(len(cond_1_no_struct)-1):\n",
    "    cond_2_mean.append(np.mean(cond_1_no_struct[i, 0, 9:])) # use 3 for significance testing as this is when manipulation started, use final step for descriptives.\n",
    "for i in range(len(cond_2_BC_struct)-1): \n",
    "    cond_1_mean.append(np.mean(cond_2_BC_struct[i, 0, 9:]))\n",
    "for i in range(len(cond_3_CB_struct)-1):\n",
    "    cond_3_mean.append(np.mean(cond_3_CB_struct[i, 0, 9:]))\n",
    "    \n",
    "print()\n",
    "print('mean, sem, conf int')\n",
    "print(cond_1_mean)\n",
    "print(cond_2_mean)\n",
    "print(cond_3_mean)\n",
    "print('cond 1', np.mean(cond_1_mean), scipy.stats.sem(cond_1_mean), 'prop larger than 0', np.mean(np.array(cond_1_mean) > 0))\n",
    "print('cond 2', np.mean(cond_2_mean), scipy.stats.sem(cond_2_mean), 'prop larger than 0', np.mean(np.array(cond_2_mean) < 0))\n",
    "print('cond 3', np.mean(cond_3_mean), scipy.stats.sem(cond_3_mean), 'prop larger than 0', np.mean(np.array(cond_3_mean) < 0))"
   ]
  },
  {
   "cell_type": "code",
   "execution_count": 19,
   "id": "079843a5",
   "metadata": {},
   "outputs": [
    {
     "name": "stdout",
     "output_type": "stream",
     "text": [
      "kw anova:\n",
      "\n",
      "KruskalResult(statistic=13.727192225359047, pvalue=0.0010451486941036152)\n",
      "eta 0.08200833724027307\n",
      "pairwise mannwhtneyu (not yet bonferroni adjusted\n",
      "\n",
      "NO STRUCT vs BC res:       U-val alternative     p-val       RBC      CLES\n",
      "MWU  1662.0     greater  0.000217 -0.414468  0.707234\n",
      "\n",
      "NO STRUCT vs CB res:       U-val alternative     p-val       RBC      CLES\n",
      "MWU  1473.0     greater  0.009166 -0.279201  0.639601\n",
      "\n",
      "BC vs CB p:      U-val alternative     p-val       RBC      CLES\n",
      "MWU  991.5     greater  0.949691  0.190612  0.404694\n",
      "\n",
      "mean, sem, conf int\n",
      "cond 1 0.06079027355623098 0.1086026435109104 -0.1520709077251534 0.2736514548376153\n",
      "cond 2 -0.47142857142857136 0.14892366856455536 -0.7633189618150998 -0.1795381810420429\n",
      "cond 3 -0.2973760932944606 0.12208255368749352 -0.5366578985219479 -0.05809428806697328\n"
     ]
    }
   ],
   "source": [
    "# EXPERIMENT 1  Anova\n",
    "cond_1_no_struct = np.array(np.loadtxt('processed_data_and_figures/exp_1_one_player_known_structure/cond_2_no_struct_full.txt').reshape(51,3,10))\n",
    "cond_2_BC_struct = np.array(np.loadtxt('processed_data_and_figures/exp_1_one_player_known_structure/cond_1_BC_full.txt').reshape(48,3,10))\n",
    "cond_3_CB_struct = np.array(np.loadtxt('processed_data_and_figures/exp_1_one_player_known_structure/cond_3_CB_full.txt').reshape(50,3,10))\n",
    "\n",
    "# computing mean mean judg within pp including all judg affected by manipulation (from 4 onwards)\n",
    "cond_1_mean = []\n",
    "cond_2_mean = []\n",
    "cond_3_mean = []\n",
    "for i in range(len(cond_1_no_struct)-1):\n",
    "    cond_2_mean.append(np.mean(cond_1_no_struct[i, 0, 3:])) # use 3 for significance testing as this is when manipulation started, use final step for descriptives.\n",
    "for i in range(len(cond_2_BC_struct)-1): \n",
    "    cond_1_mean.append(np.mean(cond_2_BC_struct[i, 0, 3:]))\n",
    "for i in range(len(cond_3_CB_struct)-1):\n",
    "    cond_3_mean.append(np.mean(cond_3_CB_struct[i, 0, 3:]))\n",
    "    \n",
    "print('kw anova:')\n",
    "print()\n",
    "print(scipy.stats.kruskal(cond_1_mean, cond_2_mean, cond_3_mean))\n",
    "# (H - k + 1)/(n - k) eta squared for kw anova\n",
    "print('eta', (13.727192225359047 - 3 + 1)/(len(cond_1_mean) + len(cond_2_mean) + len(cond_3_mean) - 3))\n",
    "\n",
    "\n",
    "print('pairwise mannwhtneyu (not yet bonferroni adjusted')\n",
    "print()\n",
    "print('NO STRUCT vs BC', 'res:', mwu(cond_1_mean, cond_2_mean, alternative='greater'))\n",
    "print()\n",
    "print('NO STRUCT vs CB', 'res:', mwu(cond_1_mean, cond_3_mean, alternative='greater'))\n",
    "print()\n",
    "print('BC vs CB', 'p:', mwu(cond_2_mean, cond_3_mean, alternative='greater'))\n",
    "\n",
    "print()\n",
    "# used https://www.socscistatistics.com/tests/mannwhitney/default3.aspx to compute standardised U score reported in paper \n",
    "print('mean, sem, conf int')\n",
    "print('cond 1', np.mean(cond_1_mean), scipy.stats.sem(cond_1_mean), np.mean(cond_1_mean) - 1.96 * scipy.stats.sem(cond_1_mean), np.mean(cond_1_mean) + 1.96 * scipy.stats.sem(cond_1_mean))\n",
    "print('cond 2', np.mean(cond_2_mean), scipy.stats.sem(cond_2_mean), np.mean(cond_2_mean) - 1.96 * scipy.stats.sem(cond_2_mean), np.mean(cond_2_mean) + 1.96 * scipy.stats.sem(cond_2_mean))\n",
    "print('cond 3', np.mean(cond_3_mean), scipy.stats.sem(cond_3_mean), np.mean(cond_3_mean) - 1.96 * scipy.stats.sem(cond_3_mean), np.mean(cond_3_mean) + 1.96 * scipy.stats.sem(cond_3_mean))"
   ]
  },
  {
   "cell_type": "code",
   "execution_count": 47,
   "id": "e4f2ac89",
   "metadata": {},
   "outputs": [
    {
     "name": "stdout",
     "output_type": "stream",
     "text": [
      "\n",
      "mean, sem, conf int\n",
      "[1.0, 0.0, 0.0, 0.0, 1.0, 0.0, 0.0, 0.0, 1.0, 0.0, 2.0, 0.0, 1.0, 0.0, 2.0, 1.0, 1.0, 1.0, 0.0, 0.0, 2.0]\n",
      "[0.0, 1.0, -3.0, 0.0, 0.0, -1.0, -2.0, 0.0, 1.0, -2.0, -3.0, 1.0, 0.0, 1.0, 2.0, 1.0, 0.0, 0.0, -1.0, -3.0, -3.0]\n",
      "cond 1 0.6190476190476191 0.1614840472172683 prop larger than 0 0.47619047619047616\n",
      "cond 2 -0.5238095238095238 0.3423938668999533 prop larger than 0 0.2857142857142857\n"
     ]
    }
   ],
   "source": [
    "# EXPERIMENT 2 Descriptives\n",
    "cond_1_indep = np.array(np.loadtxt('processed_data_and_figures/exp_2_three_players_known_structure/independent/independent_planet_judgments.txt').reshape(22,3,10))\n",
    "cond_2_BC = np.array(np.loadtxt('processed_data_and_figures/exp_2_three_players_known_structure/b->c/b->c_planet_judgments.txt').reshape(22,3,10))\n",
    "\n",
    "# computing mean mean judg within pp including all judg affected by manipulation (from 4 onwards)\n",
    "cond_1_mean = []\n",
    "cond_2_mean = []\n",
    "for i in range(len(cond_1_indep)-1):\n",
    "    cond_1_mean.append(np.mean(cond_1_indep[i, 2, 9:]))  # use 5 for significance testing as this is when manipulation started, use final step for descriptives.\n",
    "for i in range(len(cond_2_BC)-1):\n",
    "    cond_2_mean.append(np.mean(cond_2_BC[i, 2, 9:]))\n",
    "\n",
    "\n",
    "print()\n",
    "print('mean, sem, conf int')\n",
    "print(cond_1_mean)\n",
    "print(cond_2_mean)\n",
    "print('cond 1', np.mean(cond_1_mean), scipy.stats.sem(cond_1_mean), 'prop larger than 0', np.mean(np.array(cond_1_mean) > 0))\n",
    "print('cond 2', np.mean(cond_2_mean), scipy.stats.sem(cond_2_mean), 'prop larger than 0', np.mean(np.array(cond_2_mean) > 0))"
   ]
  },
  {
   "cell_type": "code",
   "execution_count": 33,
   "id": "2865ea2e-3bcc-44f7-aee7-0b3586030ad1",
   "metadata": {},
   "outputs": [
    {
     "name": "stdout",
     "output_type": "stream",
     "text": [
      "\n",
      "pairwise mannwhtneyu (not yet bonferroni adjusted\n",
      "\n",
      "MannwhitneyuResult(statistic=249.0, pvalue=0.47922480872064577)\n",
      "Indep vs BC res:\n",
      "     U-val alternative     p-val       RBC      CLES\n",
      "MWU  249.0   two-sided  0.479225 -0.129252  0.564626\n",
      "\n",
      "\n",
      "mean, sem, conf int\n",
      "cond 1 0.20952380952380953 0.2076976696919464 -0.1975636230724054 0.6166112421200245\n",
      "cond 2 -0.019047619047619063 0.2621903205161007 -0.5329406472591764 0.49484540916393827\n"
     ]
    }
   ],
   "source": [
    "# EXPERIMENT 2 Comparison\n",
    "cond_1_indep = np.array(np.loadtxt('processed_data_and_figures/exp_2_three_players_known_structure/independent/independent_planet_judgments.txt').reshape(22,3,10))\n",
    "cond_2_BC = np.array(np.loadtxt('processed_data_and_figures/exp_2_three_players_known_structure/b->c/b->c_planet_judgments.txt').reshape(22,3,10))\n",
    "\n",
    "# computing mean mean judg within pp including all judg affected by manipulation (from 4 onwards)\n",
    "cond_1_mean = []\n",
    "cond_2_mean = []\n",
    "for i in range(len(cond_1_indep)-1):\n",
    "    cond_1_mean.append(np.mean(cond_1_indep[i, 0, 5:]))  # use 5 for significance testing as this is when manipulation started, use final step for descriptives.\n",
    "for i in range(len(cond_2_BC)-1):\n",
    "    cond_2_mean.append(np.mean(cond_2_BC[i, 0, 5:]))\n",
    "\n",
    "\n",
    "print()\n",
    "\n",
    "print('pairwise mannwhtneyu (not yet bonferroni adjusted')\n",
    "print()\n",
    "print(scipy.stats.mannwhitneyu(cond_1_mean, cond_2_mean, alternative='two-sided'))\n",
    "print('Indep vs BC', 'res:')\n",
    "print(mwu(cond_1_mean, cond_2_mean, 'two-sided'))\n",
    "print()\n",
    "\n",
    "print()\n",
    "# used https://www.socscistatistics.com/tests/mannwhitney/default3.aspx to compute standardised U score reported in paper \n",
    "print('mean, sem, conf int')\n",
    "print('cond 1', np.mean(cond_1_mean), scipy.stats.sem(cond_1_mean), np.mean(cond_1_mean) - 1.96 * scipy.stats.sem(cond_1_mean), np.mean(cond_1_mean) + 1.96 * scipy.stats.sem(cond_1_mean))\n",
    "print('cond 2', np.mean(cond_2_mean), scipy.stats.sem(cond_2_mean), np.mean(cond_2_mean) - 1.96 * scipy.stats.sem(cond_2_mean), np.mean(cond_2_mean) + 1.96 * scipy.stats.sem(cond_2_mean))"
   ]
  },
  {
   "cell_type": "code",
   "execution_count": 49,
   "id": "c597dd77",
   "metadata": {},
   "outputs": [
    {
     "name": "stdout",
     "output_type": "stream",
     "text": [
      "\n",
      "mean, sem, conf int\n",
      "[1.0, -3.0, 0.0, 1.0, 1.0, 1.0, 1.0, 1.0, 1.0, 1.0, 2.0, 0.0, 0.0, 0.0, 1.0, 1.0, 1.0, 0.0, 2.0, 1.0, 0.0, 1.0]\n",
      "[-3.0, 1.0, 0.0, -2.0, -1.0, -1.0, -1.0, -1.0, 0.0, 0.0, 0.0, -1.0, -2.0, -3.0, 1.0, 0.0, -1.0, 1.0, 0.0, 2.0, 0.0]\n",
      "cond 1 0.6363636363636364 0.21366169141563748 prop larger than 0 0.6818181818181818\n",
      "cond 2 -0.5238095238095238 0.2813153426236558 prop larger than 0 0.19047619047619047\n"
     ]
    }
   ],
   "source": [
    "# EXPERIMENT 3 Descriptives\n",
    "cond_1_indep = np.array(np.loadtxt('processed_data_and_figures/exp_3_three_players_unknown_structure/independent/independent_planet_judgments.txt').reshape(23,3,10))\n",
    "cond_2_BC = np.array(np.loadtxt('processed_data_and_figures/exp_3_three_players_unknown_structure/b->c/b->c_planet_judgments.txt').reshape(22,3,10))\n",
    "\n",
    "# computing mean mean judg within pp including all judg affected by manipulation (from 4 onwards)\n",
    "cond_1_mean = []\n",
    "cond_2_mean = []\n",
    "for i in range(len(cond_1_indep)-1):\n",
    "    cond_1_mean.append(np.mean(cond_1_indep[i, 2, 9:]))  # use 5 for significance testing as this is when manipulation started, use final step for descriptives.\n",
    "for i in range(len(cond_2_BC)-1):\n",
    "    cond_2_mean.append(np.mean(cond_2_BC[i, 2, 9:]))\n",
    "\n",
    "\n",
    "print()\n",
    "print('mean, sem, conf int')\n",
    "print(cond_1_mean)\n",
    "print(cond_2_mean)\n",
    "print('cond 1', np.mean(cond_1_mean), scipy.stats.sem(cond_1_mean), 'prop larger than 0', np.mean(np.array(cond_1_mean) > 0))\n",
    "print('cond 2', np.mean(cond_2_mean), scipy.stats.sem(cond_2_mean), 'prop larger than 0', np.mean(np.array(cond_2_mean) > 0))"
   ]
  },
  {
   "cell_type": "code",
   "execution_count": 50,
   "id": "97a0d1d1-a590-4502-bb36-fc6e22af50c0",
   "metadata": {},
   "outputs": [
    {
     "name": "stdout",
     "output_type": "stream",
     "text": [
      "\n",
      "pairwise mannwhtneyu (not yet bonferroni adjusted\n",
      "\n",
      "MannwhitneyuResult(statistic=251.5, pvalue=0.6258146766923011)\n",
      "Indep vs BC res:\n",
      "     U-val alternative     p-val       RBC      CLES\n",
      "MWU  251.5   two-sided  0.625815 -0.088745  0.544372\n",
      "\n",
      "\n",
      "mean, sem, conf int\n",
      "cond 1 0.22727272727272732 0.259301577601061 -0.2809583648253522 0.7355038193708068\n",
      "cond 2 0.15238095238095245 0.1851150282828089 -0.210444503053353 0.5152064078152578\n"
     ]
    }
   ],
   "source": [
    "# EXPERIMENT 3 Comparison\n",
    "cond_1_indep = np.array(np.loadtxt('processed_data_and_figures/exp_3_three_players_unknown_structure/independent/independent_planet_judgments.txt').reshape(23,3,10))\n",
    "cond_2_BC = np.array(np.loadtxt('processed_data_and_figures/exp_3_three_players_unknown_structure/b->c/b->c_planet_judgments.txt').reshape(22,3,10))\n",
    "\n",
    "# computing mean mean judg within pp including all judg affected by manipulation (from 4 onwards)\n",
    "cond_1_mean = []\n",
    "cond_2_mean = []\n",
    "for i in range(len(cond_1_indep)-1):\n",
    "    cond_1_mean.append(np.mean(cond_1_indep[i, 0, 5:]))  # use 5 for significance testing as this is when manipulation started, use final step for descriptives.\n",
    "for i in range(len(cond_2_BC)-1):\n",
    "    cond_2_mean.append(np.mean(cond_2_BC[i, 0, 5:]))\n",
    "\n",
    "\n",
    "print()\n",
    "\n",
    "print('pairwise mannwhtneyu (not yet bonferroni adjusted')\n",
    "print()\n",
    "print(scipy.stats.mannwhitneyu(cond_1_mean, cond_2_mean, alternative='two-sided'))\n",
    "print('Indep vs BC', 'res:')\n",
    "print(mwu(cond_1_mean, cond_2_mean, 'two-sided'))\n",
    "print()\n",
    "\n",
    "print()\n",
    "# used https://www.socscistatistics.com/tests/mannwhitney/default3.aspx to compute standardised U score reported in paper \n",
    "print('mean, sem, conf int')\n",
    "print('cond 1', np.mean(cond_1_mean), scipy.stats.sem(cond_1_mean), np.mean(cond_1_mean) - 1.96 * scipy.stats.sem(cond_1_mean), np.mean(cond_1_mean) + 1.96 * scipy.stats.sem(cond_1_mean))\n",
    "print('cond 2', np.mean(cond_2_mean), scipy.stats.sem(cond_2_mean), np.mean(cond_2_mean) - 1.96 * scipy.stats.sem(cond_2_mean), np.mean(cond_2_mean) + 1.96 * scipy.stats.sem(cond_2_mean))"
   ]
  }
 ],
 "metadata": {
  "kernelspec": {
   "display_name": "spacefish",
   "language": "python",
   "name": "python3"
  },
  "language_info": {
   "codemirror_mode": {
    "name": "ipython",
    "version": 3
   },
   "file_extension": ".py",
   "mimetype": "text/x-python",
   "name": "python",
   "nbconvert_exporter": "python",
   "pygments_lexer": "ipython3",
   "version": "3.10.0"
  }
 },
 "nbformat": 4,
 "nbformat_minor": 5
}
